{
 "cells": [
  {
   "cell_type": "markdown",
   "metadata": {},
   "source": [
    "# Computación Científica - Tarea 3\n",
    "---\n",
    "Vicente Lizana Estivill  \n",
    "vlizana@alumnos.inf.utfsm.cl  \n",
    "201310004-K\n",
    "\n",
    "---"
   ]
  },
  {
   "cell_type": "markdown",
   "metadata": {},
   "source": [
    "## Introducción\n",
    "---\n",
    "\n"
   ]
  },
  {
   "cell_type": "markdown",
   "metadata": {},
   "source": [
    "En esta tarea analizaremos los diferentes métodos de resolución de _Ordinary Differential Equations_, específicamente _Initial Value Problems_. Veremos como se comportan a medida que vamos variando el tamaño de los saltos que hacemos en el cálculo iterativo y estudiaremos el comportamiento de sus órbitas.\n",
    "\n",
    "---"
   ]
  },
  {
   "cell_type": "markdown",
   "metadata": {},
   "source": [
    "## Desarrollo y Análisis de Resultados\n",
    "---"
   ]
  },
  {
   "cell_type": "markdown",
   "metadata": {},
   "source": [
    "### Bibliotecas y Utilidades\n",
    "---"
   ]
  },
  {
   "cell_type": "code",
   "execution_count": 1,
   "metadata": {
    "collapsed": true
   },
   "outputs": [],
   "source": [
    "import numpy as np\n",
    "import matplotlib.pyplot as plt\n",
    "%matplotlib inline\n",
    "from matplotlib import gridspec\n",
    "from mpl_toolkits.mplot3d import Axes3D\n",
    "from ipywidgets import interact, fixed, IntSlider"
   ]
  },
  {
   "cell_type": "code",
   "execution_count": 2,
   "metadata": {
    "collapsed": true
   },
   "outputs": [],
   "source": [
    "def F_test(t,y):\n",
    "    y1 = y[0]\n",
    "    y2 = y[1]\n",
    "    return np.array([y1*y2 + y2**2, y2**2 - y1**3])"
   ]
  },
  {
   "cell_type": "code",
   "execution_count": 3,
   "metadata": {
    "collapsed": true
   },
   "outputs": [],
   "source": [
    "def Euler_Method(y,t,f,h):\n",
    "    return y+h*f(t,y)\n",
    "\n",
    "def Trapezoidal_Rule(y,t,f,h):\n",
    "    k1=y+h/2.0*Euler_Method(y,t,f,h)\n",
    "    return y+h*f(t+h/2.0,k1)\n",
    "\n",
    "def RK4(y,t,f,h):\n",
    "    k1=f(t,y)\n",
    "    k2=f(t+h/2.0,y+(h/2.0)*k1)\n",
    "    k3=f(t+h/2.0,y+(h/2.0)*k2)\n",
    "    k4=f(t+h,y+h*k3)\n",
    "    return y+(h/6.0)*(k1+2.0*k2+2.0*k3+k4)"
   ]
  },
  {
   "cell_type": "code",
   "execution_count": 4,
   "metadata": {
    "collapsed": true
   },
   "outputs": [],
   "source": [
    "def plot_y_t_2D(time, y_output, i=1):\n",
    "    fig = plt.figure(figsize=(17,6))\n",
    "    \n",
    "    gs = gridspec.GridSpec(1, 2, width_ratios=[2, 2])\n",
    "    #First Subplot\n",
    "    ax0 = plt.subplot(gs[0])\n",
    "    ax0.grid(True)\n",
    "    plt.xlabel(r\"$t$\",fontsize = 20) \n",
    "    plt.plot(time[:i],y_output[0,:i],'b-',label=r\"$y_1(t)$\")\n",
    "    plt.plot(time[:i],y_output[1,:i],'y-',label=r\"$y_2(t)$\")\n",
    "    plt.legend(loc='best', borderaxespad=0., fontsize = 20)\n",
    "    ax0.axis([0, np.pi, -2, 2])\n",
    "    \n",
    "    ax1 = plt.subplot(gs[1])\n",
    "    #Second Subplot\n",
    "    ax1.plot(y_output[0,:i],y_output[1,:i],'g-')\n",
    "    ax1.axis([-2, 2, -2, 2])\n",
    "    ax1.set_xlabel(r\"$y_1$\",fontsize=20)\n",
    "    ax1.set_ylabel(r'$y_2$',fontsize=20)\n",
    "    plt.grid()\n",
    "    plt.show()"
   ]
  },
  {
   "cell_type": "code",
   "execution_count": 5,
   "metadata": {
    "collapsed": true
   },
   "outputs": [],
   "source": [
    "elev_widget = IntSlider(min=0, max=180, step=10, value=20)\n",
    "azim_widget = IntSlider(min=0, max=360, step=10, value=150)"
   ]
  },
  {
   "cell_type": "markdown",
   "metadata": {},
   "source": [
    "---"
   ]
  },
  {
   "cell_type": "markdown",
   "metadata": {},
   "source": [
    "### Pregunta 1\n",
    "---\n",
    "\n",
    "Se tiene el siguiente problema de valor inicial no-autonomo definido para $t \\in [0,T]$:\n",
    "$$\n",
    "\\begin{align}\n",
    "y_1'(t) &= \\displaystyle \\frac{-y_1(t)y_2(t)}{20} + y_2^2(t)\\sin(t) \\\\\n",
    "y_2'(t) &= \\displaystyle \\frac{y_1^2(t)}{20} - y_1(t)y_2(t)\\sin(t) \\\\\n",
    "y_1(0) &= \\cos(\\theta) \\\\\n",
    "y_2(0) &= \\sin(\\theta)\n",
    "\\end{align}\n",
    "$$\n",
    "\n",
    "Con $\\theta = \\displaystyle \\frac{4\\pi}{5}.$\n",
    "\n",
    "---"
   ]
  },
  {
   "cell_type": "markdown",
   "metadata": {},
   "source": [
    "**a.-** Demuestre que las órbitas del sistema dinámico se mueven en un círculo y determine el radio del círculo.\n",
    "\n",
    "---"
   ]
  },
  {
   "cell_type": "markdown",
   "metadata": {},
   "source": [
    "Sea $\\gamma_1$ la órbita tal que $\\gamma_1 = \\langle y_1(t), y_2(t) \\rangle$, con $t \\in [0, \\pi]$. Podemos ver que cada punto de esta órbita está definido en función de $t$. Como la función $\\sin(x)$ es biyectiva en el intervalo $[0, \\pi]$, entonces $\\sin(t_i) = \\sin(t_j) \\Rightarrow t_i = t_j$. Bajo este principio tenemos que:\n",
    "\n",
    "$$ sin(t) = \\frac{y_1'}{y_2^2} + \\frac{y_1}{20 \\cdot y_2} = -\\frac{y_2'}{y_1 \\cdot y_2} + \\frac{y_1}{20 \\cdot y_2} $$\n",
    "\n",
    "$$ \\frac{y_1'}{y_2} = -\\frac{y_2'}{y_1} $$\n",
    "\n",
    "$$ y_1\\ y_1' + y_2\\ y_2' = 0 $$\n",
    "\n",
    "$$ \\int y_1\\ \\frac{dy_1}{dt} dt + \\int y_2\\ \\frac{dy_2}{dt} dt = 0 $$\n",
    "\n",
    "$$ \\int y_1\\ dy_1 + \\int y_2\\ dy_2 = 0 $$\n",
    "\n",
    "$$ \\frac{y_1^2}{2} + \\frac{y_2^2}{2} = \\hat{c} $$\n",
    "\n",
    "$$ y_1^2 + y_2^2 = c = r^2 $$\n",
    "\n",
    "Que es precisamente la ecuación de una circunferencia.\n",
    "\n",
    "Para determinar el radio utilizamos los valores que tenemos disponibles, $y_1(0)$ y $y_2(0)$, ya que el radio es constante.\n",
    "\n",
    "$$ y_1^2(0) + y_2^2(0) = r^2 $$\n",
    "\n",
    "$$ \\sin^2(\\theta) + \\cos^2(\\theta) = r^2 $$\n",
    "\n",
    "$$ r = 1 $$\n",
    "\n",
    "---"
   ]
  },
  {
   "cell_type": "markdown",
   "metadata": {},
   "source": [
    "**b.-** Modifique la función **plot_y_t_2D** para las curvas $\\langle y_i, t \\rangle$ con $i \\in \\{1,2\\}$ para $T \\in [0,\\pi]$ del enunciado. Se debe crear un *widget* hasta el tiempo $t_i$ y $h$, mostrando la solución de $y_i$ con los 3 *solvers*, además de la curva paramétrica $\\langle y_1, y_2 \\rangle$ para los 3 *solvers*. Para resolver las IVP's debe seguir la siguiente estructura:\n",
    "\n",
    "```python\n",
    "'''\n",
    "solver    - (string) Type of solver to use\n",
    "F         - (function) Function of the dynamic system F(t,y)\n",
    "x0        - (1D-array) Initial guess\n",
    "time_grid - (float) times where solution will be computed\n",
    "x_sol     - (nD-array) Array of solutions (could be 2D or 3D).\n",
    "'''\n",
    "```\n",
    "\n",
    "```python     \n",
    "def IVP_Method(solver, F, x0, time_grid):\n",
    "    #...\n",
    "    return x_sol\n",
    "```\n",
    "\n",
    "---"
   ]
  },
  {
   "cell_type": "code",
   "execution_count": 6,
   "metadata": {
    "collapsed": true
   },
   "outputs": [],
   "source": [
    "def IVP_Method(solver, F, x0, time_grid, N=1):\n",
    "    h = time_grid/N\n",
    "    t_times = np.arange(0, time_grid+h, h)\n",
    "    x_sol = np.zeros([x0.size, t_times.size])\n",
    "    x_sol[:,0] = x0\n",
    "    for i in range(1, t_times.size):\n",
    "        x_sol[:,i] = solver(x_sol[:,i-1],t_times[i-1],F,h)\n",
    "    return x_sol"
   ]
  },
  {
   "cell_type": "code",
   "execution_count": 7,
   "metadata": {
    "collapsed": true
   },
   "outputs": [],
   "source": [
    "def modified_plot_y_t_2D(solver, F, x0, T, N=1):\n",
    "    h = T/N\n",
    "    time = np.arange(0, T+h, h)\n",
    "    y_output = IVP_Method(solver, F, x0, T, N)\n",
    "    \n",
    "    fig = plt.figure(figsize=(17,6))\n",
    "    gs = gridspec.GridSpec(1, 2, width_ratios=[2, 2])\n",
    "    \n",
    "    #First Subplot\n",
    "    ax0 = plt.subplot(gs[0])\n",
    "    ax0.grid(True)\n",
    "    plt.xlabel(r\"$t$\",fontsize = 20) \n",
    "    plt.plot(time,y_output[0,:],'b-',label=r\"$y_1(t)$\")\n",
    "    plt.plot(time,y_output[1,:],'y-',label=r\"$y_2(t)$\")\n",
    "    plt.legend(loc='best')\n",
    "    ax0.axis([0, np.pi, -2, 2])\n",
    "    \n",
    "    ax1 = plt.subplot(gs[1])\n",
    "    ######\n",
    "    u = np.linspace(0, 2*np.pi, 100)\n",
    "    x_c = np.sin(u)\n",
    "    y_c = np.cos(u)\n",
    "    ax1.plot(x_c, y_c, 'y-', label='reference')\n",
    "    ######\n",
    "    #Second Subplot\n",
    "    ax1.plot(y_output[0,:],y_output[1,:],'g-', label='curve')\n",
    "    ax1.axis([-2, 2, -2, 2])\n",
    "    ax1.set_xlabel(r\"$y_1$\",fontsize=20)\n",
    "    ax1.set_ylabel(r'$y_2$',fontsize=20)\n",
    "    plt.legend()\n",
    "    plt.grid()\n",
    "    plt.show()"
   ]
  },
  {
   "cell_type": "code",
   "execution_count": 8,
   "metadata": {
    "collapsed": true
   },
   "outputs": [],
   "source": [
    "def F1(t, y):\n",
    "    y1 = y[0]\n",
    "    y2 = y[1]\n",
    "    return np.array([\n",
    "        -y1*y2/20 + y2**2*np.sin(t),\n",
    "        y1**2/20 - y1*y2*np.sin(t)\n",
    "    ])\n",
    "\n",
    "y0_1 = np.array([\n",
    "    np.cos(4*np.pi/5),\n",
    "    np.sin(4*np.pi/5)\n",
    "])"
   ]
  },
  {
   "cell_type": "code",
   "execution_count": 9,
   "metadata": {},
   "outputs": [
    {
     "data": {
      "application/vnd.jupyter.widget-view+json": {
       "model_id": "7725680f4f3d4cff8016fc5281b0e589",
       "version_major": 2,
       "version_minor": 0
      },
      "text/plain": [
       "A Jupyter Widget"
      ]
     },
     "metadata": {},
     "output_type": "display_data"
    },
    {
     "data": {
      "text/plain": [
       "<function __main__.modified_plot_y_t_2D>"
      ]
     },
     "execution_count": 9,
     "metadata": {},
     "output_type": "execute_result"
    }
   ],
   "source": [
    "interact(\n",
    "    modified_plot_y_t_2D,\n",
    "    solver = {\n",
    "        \"Euler\" : Euler_Method,\n",
    "        \"Trapezoid\" : Trapezoidal_Rule,\n",
    "        \"RK4\" : RK4\n",
    "    },\n",
    "    F = fixed(F1),\n",
    "    x0 = fixed(y0_1),\n",
    "    T = fixed(np.pi),\n",
    "    N = (1, 1000)\n",
    ")"
   ]
  },
  {
   "cell_type": "markdown",
   "metadata": {},
   "source": [
    "* Podemos ver que con Euler tenemos una relativamente buena aproximación a partir de las $50$ iteraciones aproximadamente, esto nos indica un $h = \\frac{\\pi}{50} \\approx 0.063$.\n",
    "* Lo mismo pasa con Trapezoide.\n",
    "* RK4 aproxima mejor con $6$ iteraciones que los demás con $50$. $h = \\frac{\\pi}{6} \\approx 0.524$."
   ]
  },
  {
   "cell_type": "markdown",
   "metadata": {},
   "source": [
    "---"
   ]
  },
  {
   "cell_type": "markdown",
   "metadata": {},
   "source": [
    "### Pregunta 2\n",
    "---\n",
    "\n",
    "Se tiene el siguiente problema de valor inicial no-autonomo definito para $t \\in [0,T]$:\n",
    "$$\n",
    "\\begin{array}{lll}\n",
    "y_1'(t) &= \\displaystyle \\frac{y_2^2(t)}{5} - y_3^2(t)y_2(t)\\sin(t) &  \\quad \\quad &(1)\n",
    "\\\\\n",
    "y_2'(t) &= \\displaystyle y_1^2(t)y_3(t) - \\frac{y_1(t)y_2(t)}{5} & \\quad \\quad &(2)\n",
    "\\\\\n",
    "y_3'(t) &= \\displaystyle y_1(t)y_2(t)y_3(t)\\sin(t) - y_{1}^2(t) y_2(t) & \\quad \\quad &(3)\n",
    "\\\\\n",
    "\\\\\n",
    "y_1(0) &= \\sin(\\theta) & \\quad \\quad &(4)\n",
    "\\\\\n",
    "y_2(0) &= \\cos(\\theta) & \\quad \\quad &(5)\n",
    "\\\\\n",
    "y_3(0) &= 0 & \\quad \\quad &(6)\n",
    "\\end{array}\n",
    "$$\n",
    "\n",
    "Con $\\theta = \\displaystyle \\frac{5\\pi}{4}.$\n",
    "\n",
    "---\n",
    "\n",
    "**a.-** Demuestre que las órbitas del sistema dinámico se mueven en una esfera y determine el radio de la esfera.\n",
    "\n",
    "---"
   ]
  },
  {
   "cell_type": "markdown",
   "metadata": {},
   "source": [
    "Usando el mismo razonamiento que en la pregunta anterior:\n",
    "\n",
    "$$ \\sin(t) = \\frac{y_2^2 - 5y_1'}{5\\ y_3^2\\ y_2} = \\frac{y_3' + y_1^2\\ y_2}{y_1\\ y_2\\ y_3} $$\n",
    "\n",
    "$$ y_2^2\\ y_1 - 5y_1'\\ y_1 = 5\\ y_3'\\ y_3 + 5\\ y_1^2\\ y_2\\ y3 $$\n",
    "\n",
    "$$ y_2^2\\ y_1 - 5\\ y_1^2\\ y_2\\ y3 = 5\\ y_3'\\ y_3 + 5y_1'\\ y_1  $$\n",
    "\n",
    "$$ -5\\ y_2 \\left(y_1^2\\ y3 - \\frac{y_2\\ y_1}{5}\\right) = 5\\ y_3'\\ y_3 + 5\\ y_1'\\ y_1  $$\n",
    "\n",
    "$$ 0 = y_1'\\ y_1 + y_2'\\ y_2 + y_3'\\ y_3 $$\n",
    "\n",
    "$$ \\int y_1 \\frac{dy_1}{dt} dt + \\int y_2 \\frac{dy_2}{dt} dt + \\int y_3 \\frac{dy_3}{dt} dt = 0 $$\n",
    "\n",
    "$$ \\int y_1 dy_1 + \\int y_2 dy_2 + \\int y_3 dy_3 = 0 $$\n",
    "\n",
    "$$ \\frac{y_1^2}{2} + \\frac{y_2^2}{2} + \\frac{y_3^2}{2} = \\hat{c} $$\n",
    "\n",
    "$$ y_1^2 + y_2^2 + y_3^2 = c $$\n",
    "\n",
    "Que es precisamente la ecuación de una esfera.\n",
    "\n",
    "Nuevamente utilizamos los valores disponibles para sacar el radio constante.\n",
    "\n",
    "$$ y_1^2(0) + y_2^2(0) + y_3^2(0) = r^2 $$\n",
    "\n",
    "$$ r^2 = \\sin^2(\\theta) + \\cos^2(\\theta) + 0^2 $$\n",
    "\n",
    "$$ r = 1 $$\n",
    "\n",
    "---"
   ]
  },
  {
   "cell_type": "markdown",
   "metadata": {},
   "source": [
    "**b.-** Cree la función **plot_y_t_3D**, e implemente un *widget* hasta el tiempo $t_i$ y $h$ en los dos *subplots*:\n",
    "\n",
    "* $\\langle y^{solver}_i, t \\rangle$ para $i \\in \\{1,2,3\\}$ en 2D que muestre el avance de la curva $y_i$ para los 3 *solvers* hasta $t_i$.\n",
    "\n",
    "* $\\langle y_1(t), y_2(t), y_3(t) \\rangle$ en 3D donde se muestre la trayectoria de una partícula hasta $t_i$ para los 3 *solvers*, graficando además una esfera con el radio encontrado en la pregunta 2.a) como referencia para los puntos graficados. Use los *elev_widget* y *azim_widget* para poder girar su gráfico y verificar que efectivamente los puntos se encuentran en la esfera.\n",
    "\n",
    "---"
   ]
  },
  {
   "cell_type": "code",
   "execution_count": 10,
   "metadata": {
    "collapsed": true
   },
   "outputs": [],
   "source": [
    "def plot_y_t_3D(solver, F, x0, T, elev, azim, N=1):\n",
    "    h = T/N\n",
    "    time = np.arange(0, T+h, h)\n",
    "    y_output = IVP_Method(solver, F, x0, T, N)\n",
    "\n",
    "    fig = plt.figure(figsize=(17,6))\n",
    "    gs = gridspec.GridSpec(1, 2, width_ratios=[2, 2])\n",
    "\n",
    "    #First Subplot\n",
    "    ax0 = plt.subplot(gs[0])\n",
    "    ax0.grid(True)\n",
    "    \n",
    "    plt.xlabel(r\"$t$\",fontsize = 20) \n",
    "    plt.plot(time,y_output[0,:],'b-',label=r\"$y_1(t)$\")\n",
    "    plt.plot(time,y_output[1,:],'y-',label=r\"$y_2(t)$\")\n",
    "    plt.plot(time,y_output[2,:],'r-',label=r\"$y_3(t)$\")\n",
    "    plt.legend(loc='best')\n",
    "    ax0.axis([0, np.pi, -2, 2])\n",
    "    \n",
    "    ax1 = plt.subplot(gs[1], projection='3d')\n",
    "    ax1 = fig.gca()\n",
    "    ax1.view_init(elev,azim)\n",
    "    ########\n",
    "    u = np.linspace(0, 2 * np.pi, 100)\n",
    "    v = np.linspace(0, np.pi, 100)\n",
    "\n",
    "    x = np.outer(np.cos(u), np.sin(v))\n",
    "    y = np.outer(np.sin(u), np.sin(v))\n",
    "    z = np.outer(np.ones_like(u), np.cos(v))\n",
    "    \n",
    "    ax1.plot_surface(x, y, z, cmap=plt.cm.winter)\n",
    "    ########\n",
    "    #Second Subplot\n",
    "    ax1.plot(y_output[0,:],y_output[1,:],y_output[2,:],'r-')\n",
    "    ax1.set_xlabel(r\"$y_1$\",fontsize=20)\n",
    "    ax1.set_ylabel(r'$y_2$',fontsize=20)\n",
    "    ax1.set_zlabel(r'$y_3$',fontsize=20)\n",
    "    plt.show()"
   ]
  },
  {
   "cell_type": "code",
   "execution_count": 11,
   "metadata": {
    "collapsed": true
   },
   "outputs": [],
   "source": [
    "def F2(t, y):\n",
    "    y1 = y[0]\n",
    "    y2 = y[1]\n",
    "    y3 = y[2]\n",
    "    return np.array([\n",
    "        y2**2/5 + y3**2*y2*np.sin(t),\n",
    "        y1**2*y3 - y1*y2/5,\n",
    "        y1*y2*y3*np.sin(t) - y1**2*y2\n",
    "    ])\n",
    "\n",
    "y0_2 = np.array([\n",
    "    np.cos(4*np.pi/5),\n",
    "    np.sin(4*np.pi/5),\n",
    "    0\n",
    "])"
   ]
  },
  {
   "cell_type": "code",
   "execution_count": 12,
   "metadata": {},
   "outputs": [
    {
     "data": {
      "application/vnd.jupyter.widget-view+json": {
       "model_id": "6d48027a8eaa4d0586dd51ce468ed670",
       "version_major": 2,
       "version_minor": 0
      },
      "text/plain": [
       "A Jupyter Widget"
      ]
     },
     "metadata": {},
     "output_type": "display_data"
    },
    {
     "data": {
      "text/plain": [
       "<function __main__.plot_y_t_3D>"
      ]
     },
     "execution_count": 12,
     "metadata": {},
     "output_type": "execute_result"
    }
   ],
   "source": [
    "interact(\n",
    "    plot_y_t_3D,\n",
    "    solver = {\n",
    "        \"Euler\" : Euler_Method,\n",
    "        \"Trapezoid\" : Trapezoidal_Rule,\n",
    "        \"RK4\" : RK4\n",
    "    },\n",
    "    F = fixed(F2),\n",
    "    x0 = fixed(y0_2),\n",
    "    T = fixed(np.pi),\n",
    "    elev=elev_widget,\n",
    "    azim=azim_widget,\n",
    "    N = (1, 1000)\n",
    ")"
   ]
  },
  {
   "cell_type": "markdown",
   "metadata": {},
   "source": [
    "Esta no es una curva que nos aporte mucha información ya que no parece presentar cambios significativos más allá de las 15 iteraciones en los dos primeros métodos y RK4 se aproxima incluso con un par de iteraciones, ya con $4$ se ve relativamente saturado el método."
   ]
  },
  {
   "cell_type": "markdown",
   "metadata": {},
   "source": [
    "---"
   ]
  },
  {
   "cell_type": "markdown",
   "metadata": {},
   "source": [
    "### Pregunta 3\n",
    "---\n",
    "\n",
    "**a.-** Construya un problema de valor inicial no-autonomo definido para $t \\in [0,T]$ que viva en la elipsoide $\\displaystyle \\Big(\\frac{x}{2}\\Big)^2 + \\Big(\\frac{y}{0.8}\\Big)^2 + \\Big(\\frac{z}{1.5}\\Big)^2=1$ con sus respectivas condiciones iniciales.\n",
    "\n",
    "---"
   ]
  },
  {
   "cell_type": "markdown",
   "metadata": {},
   "source": [
    "Realizamos el proceso inverso que en los ejercicios anteriores, partir de la ecuación, derivar y llegar a la forma de _IVP_:\n",
    "\n",
    "$$ \\frac{x^2}{4} + \\frac{25y^2}{16} + \\frac{4z^2}{9} = 1 $$\n",
    "\n",
    "$$ 36\\ x^2(t) + 225\\ y^2(t) + 64\\ z^2(t) = 144\\quad \\Big/\\ \\frac{d}{dt} $$\n",
    "\n",
    "$$ 36\\ x(t)\\ x'(t) + 225\\ y(t)\\ y'(t) + 64\\ z(t)\\ z'(t) = 0 $$\n",
    "\n",
    "Acá podemos invevntar dos de las derivadas con tal de que la última cumpla con la ecuación. Como el sistema debe ser no autónomo, propongo:\n",
    "\n",
    "$$ x'(t) = t \\cdot y(t) $$\n",
    "\n",
    "$$ z'(t) = t \\cdot \\frac{y(t)\\ x(t)}{z(t)} $$\n",
    "\n",
    "Luego\n",
    "\n",
    "$$ y'(t) = -\\frac{64\\ z(t)\\ z'(t) + 36\\ x(t)\\ x'(t)}{225\\ y(t)}\n",
    "= -\\frac{64}{225}\\ t \\cdot x(t) -\\frac{36}{255}\\ t \\cdot x(t) = -\\frac{4}{9}\\ t \\cdot x(t) $$\n",
    "\n",
    "Por último solo basta con elegir de manera conveniente el valor inicial, de tal forma que cumpla también con la ecuación de la elipsoide.\n",
    "\n",
    "$$ x(0) = 2 \\cdot \\sin(\\theta) $$\n",
    "\n",
    "$$ z(0) = 1.5 \\cdot \\cos(\\theta) $$\n",
    "\n",
    "$$ y(0) = 0 $$\n",
    "\n",
    "con $\\theta = \\frac{4}{5}\\pi $.\n",
    "\n",
    "---"
   ]
  },
  {
   "cell_type": "markdown",
   "metadata": {},
   "source": [
    "**b.-** Modifique la función **plot_y_t_3D** para el problema 3.a), colocando como referencia la elipsoide propuesta.\n",
    "\n",
    "---"
   ]
  },
  {
   "cell_type": "code",
   "execution_count": 13,
   "metadata": {
    "collapsed": true
   },
   "outputs": [],
   "source": [
    "def modified_plot_y_t_3D(solver, F, x0, T, elev, azim, N=1):\n",
    "    h = T/N\n",
    "    time = np.arange(0, T+h, h)\n",
    "    y_output = IVP_Method(solver, F, x0, T, N)\n",
    "    \n",
    "    fig = plt.figure(figsize=(17,6))\n",
    "    gs = gridspec.GridSpec(1, 2, width_ratios=[2, 2])\n",
    "\n",
    "    #First Subplot\n",
    "    ax0 = plt.subplot(gs[0])\n",
    "    ax0.grid(True)\n",
    "    \n",
    "    plt.xlabel(r\"$t$\",fontsize = 20) \n",
    "    plt.plot(time,y_output[0,:],'b-',label=r\"$x(t)$\")\n",
    "    plt.plot(time,y_output[1,:],'y-',label=r\"$y(t)$\")\n",
    "    plt.plot(time,y_output[2,:],'r-',label=r\"$z(t)$\")\n",
    "    plt.legend(loc='best')\n",
    "    ax0.axis([0, np.pi, -2, 2])\n",
    "    \n",
    "    ax1 = plt.subplot(gs[1], projection='3d')\n",
    "    ax1 = fig.gca()\n",
    "    ax1.view_init(elev,azim)\n",
    "    ########\n",
    "    rx = 2.0\n",
    "    ry = 0.8\n",
    "    rz = 1.5\n",
    "\n",
    "    u = np.linspace(0, 2 * np.pi, 100)\n",
    "    v = np.linspace(0, np.pi, 100)\n",
    "\n",
    "    x = rx * np.outer(np.cos(u), np.sin(v))\n",
    "    y = ry * np.outer(np.sin(u), np.sin(v))\n",
    "    z = rz * np.outer(np.ones_like(u), np.cos(v))\n",
    "\n",
    "    ax1.plot_surface(x, y, z, cmap=plt.cm.winter)\n",
    "    ########\n",
    "    #Second Subplot\n",
    "    ax1.plot(y_output[0,:],y_output[1,:],y_output[2,:],'r-')\n",
    "    ax1.set_xlabel(r\"$x$\",fontsize=20)\n",
    "    ax1.set_ylabel(r'$y$',fontsize=20)\n",
    "    ax1.set_zlabel(r'$z$',fontsize=20)\n",
    "    plt.show()"
   ]
  },
  {
   "cell_type": "code",
   "execution_count": 14,
   "metadata": {
    "collapsed": true
   },
   "outputs": [],
   "source": [
    "def F3(t, v):\n",
    "    x = v[0]\n",
    "    y = v[1]\n",
    "    z = v[2]\n",
    "    return np.array([\n",
    "        t * y,\n",
    "        -4 * t * x / 9.0,\n",
    "        t * y * x / z\n",
    "    ])\n",
    "\n",
    "y0_3 = np.array([\n",
    "    2 * np.sin(4*np.pi/5),\n",
    "    0,\n",
    "    1.5 * np.cos(4*np.pi/5)\n",
    "])"
   ]
  },
  {
   "cell_type": "code",
   "execution_count": 15,
   "metadata": {},
   "outputs": [
    {
     "data": {
      "application/vnd.jupyter.widget-view+json": {
       "model_id": "eb91bf6a2fee44a5b6bcc9a5b2fac3c8",
       "version_major": 2,
       "version_minor": 0
      },
      "text/plain": [
       "A Jupyter Widget"
      ]
     },
     "metadata": {},
     "output_type": "display_data"
    },
    {
     "data": {
      "text/plain": [
       "<function __main__.modified_plot_y_t_3D>"
      ]
     },
     "execution_count": 15,
     "metadata": {},
     "output_type": "execute_result"
    }
   ],
   "source": [
    "interact(\n",
    "    modified_plot_y_t_3D,\n",
    "    solver = {\n",
    "        \"Euler\" : Euler_Method,\n",
    "        \"Trapezoid\" : Trapezoidal_Rule,\n",
    "        \"RK4\" : RK4\n",
    "    },\n",
    "    F = fixed(F3),\n",
    "    x0 = fixed(y0_3),\n",
    "    T = fixed(np.pi),\n",
    "    elev=elev_widget,\n",
    "    azim=azim_widget,\n",
    "    N = (1, 1000)\n",
    ")"
   ]
  },
  {
   "cell_type": "markdown",
   "metadata": {},
   "source": [
    "Acá se logra apreciar mejor el error de arrastre.\n",
    "* Con 100 iteraciones ni Euler ni Trapezoide se aprecian sobre la superficie del elipsoide. Con 150 ya se aprecia una mejor aproximación, $h = \\frac{\\pi}{150} \\approx 0.021$.\n",
    "* Debido a lo larga y variable que es la curva (se requieren más segmentos para suavizarla), RK4 hace un buen trabajo aproximadamente desde las $20$ iteraciones, $h = \\frac{\\pi}{20} \\approx 0.157$."
   ]
  },
  {
   "cell_type": "markdown",
   "metadata": {},
   "source": [
    "---"
   ]
  },
  {
   "cell_type": "markdown",
   "metadata": {},
   "source": [
    "## Conclusiones\n",
    "---"
   ]
  },
  {
   "cell_type": "markdown",
   "metadata": {},
   "source": [
    "* Se puede ver que RK4 es mucho mejor que los demás, ya que disminuye casi completamente el error de arrastre que conlleva este problema, es decir, a pesar de que cada punto se calcula a partir del anterior, los puntos en RK4 siempre quedan muy cerca de donde deberían estar.\n",
    "* Euler y Trapezoide se comportan de la misma manera, esto se explica por que tienen el mismo orden de convergencia cuadrático con respecto al valor de $h$.\n",
    "\n",
    "---"
   ]
  },
  {
   "cell_type": "markdown",
   "metadata": {},
   "source": [
    "## Referencias\n",
    "---"
   ]
  },
  {
   "cell_type": "markdown",
   "metadata": {},
   "source": [
    "[Notebook de IVP](https://www.dropbox.com/sh/3eef0gtr3tjnech/AABBOs7zvkVZYhoje8GqaToYa/Jupyter%20notebooks/CC2?dl=0&preview=U3_AdvancedApplications.ipynb)    \n",
    "[Documentación de Matplotlib](https://matplotlib.org/api/pyplot_api.html)    \n",
    "[Documentación de SciPy](https://docs.scipy.org/doc/scipy/reference/)\n",
    "\n",
    "---"
   ]
  }
 ],
 "metadata": {
  "kernelspec": {
   "display_name": "Python 3",
   "language": "python",
   "name": "python3"
  },
  "language_info": {
   "codemirror_mode": {
    "name": "ipython",
    "version": 3
   },
   "file_extension": ".py",
   "mimetype": "text/x-python",
   "name": "python",
   "nbconvert_exporter": "python",
   "pygments_lexer": "ipython3",
   "version": "3.6.2"
  }
 },
 "nbformat": 4,
 "nbformat_minor": 2
}
