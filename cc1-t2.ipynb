{
 "cells": [
  {
   "cell_type": "markdown",
   "metadata": {},
   "source": [
    "# Computación Científica - Tarea 2\n",
    "---\n",
    "Vicente Lizana Estivill  \n",
    "vlizana@alumnos.inf.utfsm.cl  \n",
    "201310004-K\n",
    "\n",
    "---"
   ]
  },
  {
   "cell_type": "markdown",
   "metadata": {},
   "source": [
    "## Introducción\n",
    "---\n",
    "\n"
   ]
  },
  {
   "cell_type": "markdown",
   "metadata": {},
   "source": [
    "En este trabajo se busca aprender acerca de la pérdida de presición que puede existir en caso de que uno no posea conciencia de como la arquitectura implementa las representaciones de los números con los que uno trabaja. Veremos como trabajan los computadores y como y cuando influye la pérdida de significancia a la hora de operar con cantidades de diferentes magnitudes."
   ]
  },
  {
   "cell_type": "markdown",
   "metadata": {},
   "source": [
    "## Desarrollo y Análisis de Resultados\n",
    "---"
   ]
  },
  {
   "cell_type": "markdown",
   "metadata": {},
   "source": [
    "### Bibliotecas y Utilidades\n",
    "---"
   ]
  },
  {
   "cell_type": "code",
   "execution_count": 1,
   "metadata": {},
   "outputs": [],
   "source": [
    "import numpy as np\n",
    "import matplotlib.pyplot as plt\n",
    "%matplotlib inline\n",
    "import bitstring as bs"
   ]
  },
  {
   "cell_type": "code",
   "execution_count": 2,
   "metadata": {
    "collapsed": true
   },
   "outputs": [],
   "source": [
    "def to_binary(f):\n",
    "    b = bs.pack('>d', f)\n",
    "    b = b.bin\n",
    "    return(b[0] + ' ' + b[1:12] + ' ' + b[12:])\n",
    "\n",
    "def bin_shift(f_string, shift):\n",
    "    f_string = to_binary(f_string)\n",
    "    f = f_string.split()\n",
    "    f[1] = bin(int(f[1],2) + shift)[2:]\n",
    "    f[2] = bin(int('1'+f[2],2) >> shift)[2:].rjust(52, '0')\n",
    "    return ' '.join(f)"
   ]
  },
  {
   "cell_type": "markdown",
   "metadata": {},
   "source": [
    "### Aritmética de Punto Flotante\n",
    "---"
   ]
  },
  {
   "cell_type": "markdown",
   "metadata": {},
   "source": [
    "a) Defina que corresponde el valor de <b>machine epsilon</b> $\\epsilon_{mach}$ y explique porqué es posible obtener dicho valor en una computadora IEEE de doble precisión calculando el valor de la siguiente resta:\n",
    "\n",
    "$$\\left(\\frac{7.0}{3.0} - \\frac{4.0}{3.0}\\right) - 1.0 $$\n",
    "\n",
    "Implemente la resta usando variables de doble precisión y describa el procedimiento usando aritmética de doble precisión y Nearest Rounding Rule\n",
    "___"
   ]
  },
  {
   "cell_type": "markdown",
   "metadata": {},
   "source": [
    "- Machine Epsilon ($\\epsilon_{mach}$) corresponde al menor incremento posible a $1$ que resulta ser representable por la arquitectura."
   ]
  },
  {
   "cell_type": "markdown",
   "metadata": {},
   "source": [
    "- Podemos ver por que existe un $\\epsilon_{mach}$ de error en esta resta mirando las representaciones de los flotantes en juego:"
   ]
  },
  {
   "cell_type": "code",
   "execution_count": 3,
   "metadata": {},
   "outputs": [
    {
     "name": "stdout",
     "output_type": "stream",
     "text": [
      "0 10000000000 0010101010101010101010101010101010101010101010101011\n",
      "0 01111111111 0101010101010101010101010101010101010101010101010101\n"
     ]
    }
   ],
   "source": [
    "print(to_binary(7.0/3.0))\n",
    "print(to_binary(4.0/3.0))"
   ]
  },
  {
   "cell_type": "markdown",
   "metadata": {},
   "source": [
    "Para hacer la resta, el computador debe hacer un _shift_ a la mantisa del número menor, equiparando los exponentes. Notemos que el menor queda subnormal, a pesar de que el exponente tiene unos."
   ]
  },
  {
   "cell_type": "code",
   "execution_count": 4,
   "metadata": {},
   "outputs": [
    {
     "name": "stdout",
     "output_type": "stream",
     "text": [
      "0 10000000000 0010101010101010101010101010101010101010101010101011 - 0\n",
      "0 10000000000 1010101010101010101010101010101010101010101010101010 - 1\n",
      "- ----------- ----------------------------------------------------\n",
      "0 10000000000 1000000000000000000000000000000000000000000000000000 - 1\n"
     ]
    }
   ],
   "source": [
    "print(to_binary(7.0/3.0), '- 0')\n",
    "print(bin_shift(4.0/3.0, 1), '- 1')\n",
    "print('- '+'-'*11+' '+'-'*52)\n",
    "subt = to_binary(0).split()\n",
    "subt[1] = '1' + subt[1][1:]\n",
    "subt[2] = '1' + subt[2][1:]\n",
    "print(' '.join(subt), '- 1')"
   ]
  },
  {
   "cell_type": "markdown",
   "metadata": {},
   "source": [
    "Esto nos entrega un número que todavía está en representación subnormal, para normalizarlo volvemos implícito el primer uno de la mantisa."
   ]
  },
  {
   "cell_type": "code",
   "execution_count": 5,
   "metadata": {},
   "outputs": [
    {
     "name": "stdout",
     "output_type": "stream",
     "text": [
      "0 01111111111 0000000000000000000000000000000000000000000000000001\n"
     ]
    }
   ],
   "source": [
    "print(to_binary(7.0/3.0 - 4.0/3.0))"
   ]
  },
  {
   "cell_type": "markdown",
   "metadata": {},
   "source": [
    "Lo que claramente entrega $1+\\epsilon_{mach}$. Nearest Rounding Rule se utilizó para transformar a binario los primeros términos, lo que originó el error de aproximación."
   ]
  },
  {
   "cell_type": "code",
   "execution_count": 6,
   "metadata": {},
   "outputs": [
    {
     "name": "stdout",
     "output_type": "stream",
     "text": [
      "e_mach = 2.220446049250313e-16\n"
     ]
    }
   ],
   "source": [
    "e_mach = (7.0/3.0 - 4.0/3.0) - 1.0\n",
    "print('e_mach =', e_mach)"
   ]
  },
  {
   "cell_type": "markdown",
   "metadata": {},
   "source": [
    "---"
   ]
  },
  {
   "cell_type": "markdown",
   "metadata": {},
   "source": [
    "b) Considere la serie geométrica:\n",
    "\n",
    "$$\\sum_{i=0}^{\\infty} r^i = \\frac{1}{1-r}$$ \n",
    "\n",
    "para $|r|<1$. Ahora considere el siguiente código."
   ]
  },
  {
   "cell_type": "code",
   "execution_count": 7,
   "metadata": {
    "collapsed": true
   },
   "outputs": [],
   "source": [
    "# Suma parcial de serie geométrica.\n",
    "# Esta función realiza una suma parcial de la serie geométrica con M terminos, \n",
    "# pero detecta si es que los terminos que se están agregando aportan o no al\n",
    "# resultado final. En caso de que los terminos ya no aporten, se detiene el loop\n",
    "# y se retorna el valor obtenido y el índice en que se detuvo el loop.\n",
    "\n",
    "def my_partial_geometric_series(r,M):\n",
    "    sum_final=1.0\n",
    "    sum_before=sum_final\n",
    "    final_index=-1\n",
    "    for i in np.arange(1,M):\n",
    "        sum_before +=r**i\n",
    "        if sum_final==sum_before:\n",
    "            final_index=i-1\n",
    "            break\n",
    "        else:\n",
    "            sum_final=sum_before\n",
    "    # Se retorna el valor obtenido de la suma parcial y cuando se truncó\n",
    "    # dado que no aportaba.\n",
    "    return np.array([sum_final,final_index])"
   ]
  },
  {
   "cell_type": "markdown",
   "metadata": {},
   "source": [
    "Ahora para distintos valores de $r$ se han obtenido el número de terminos que efectivamente aportan al resultado final dado que se está utilizando _double precision_."
   ]
  },
  {
   "cell_type": "code",
   "execution_count": 8,
   "metadata": {
    "collapsed": true
   },
   "outputs": [],
   "source": [
    "N = 20\n",
    "M = 1e8\n",
    "r_all = np.logspace(-1,-20,N)\n",
    "out_data = np.zeros((N,2))\n",
    "for i in np.arange(N):\n",
    "    out_data[i,:]=my_partial_geometric_series(r_all[i],M)"
   ]
  },
  {
   "cell_type": "markdown",
   "metadata": {},
   "source": [
    "Graficando la candidad de terminos significativos en _double precision_ versus el $r$."
   ]
  },
  {
   "cell_type": "code",
   "execution_count": 9,
   "metadata": {},
   "outputs": [
    {
     "data": {
      "image/png": "[encoded data removed]",
      "text/plain": [
       "<matplotlib.figure.Figure at 0x7f8acf482f60>"
      ]
     },
     "metadata": {},
     "output_type": "display_data"
    }
   ],
   "source": [
    "plt.figure()\n",
    "plt.loglog(r_all,out_data[:,1],'.')\n",
    "plt.grid(True)\n",
    "plt.ylim([10**(-0.5),np.max(out_data[:,1])+1])\n",
    "plt.show()"
   ]
  },
  {
   "cell_type": "markdown",
   "metadata": {},
   "source": [
    "Explique cláramente por qué a medida que disminuye $r$ disminuye la cantidad de terminos significativos obtenidos."
   ]
  },
  {
   "cell_type": "markdown",
   "metadata": {},
   "source": [
    "---"
   ]
  },
  {
   "cell_type": "markdown",
   "metadata": {},
   "source": [
    "Tenemos que los términos de la serie ya no aportan cuando $n$ satisface la siguiente inecuación:\n",
    "\n",
    "$$ \\frac{\\epsilon_{mach}}{2} \\cdot \\sum_{i=0}^{n-1} r^i > r^n $$\n",
    "\n",
    "es decir\n",
    "\n",
    "$$ \\frac{\\epsilon_{mach}}{2} \\cdot \\frac{1-r^n}{1-r} > r^n $$\n",
    "\n",
    "despejando $n$\n",
    "\n",
    "$$ n < \\log_r(\\epsilon_{mach}) - \\log_r(2 - 2r + \\epsilon_{mach}) $$"
   ]
  },
  {
   "cell_type": "code",
   "execution_count": 10,
   "metadata": {},
   "outputs": [
    {
     "data": {
      "image/png": "[encoded data removed]",
      "text/plain": [
       "<matplotlib.figure.Figure at 0x7f8acd31dd30>"
      ]
     },
     "metadata": {},
     "output_type": "display_data"
    }
   ],
   "source": [
    "n = lambda x: (np.log(e_mach) - np.log(2-2*x+e_mach)) / np.log(x)\n",
    "n_values = n(r_all)\n",
    "\n",
    "plt.figure()\n",
    "plt.loglog(r_all,out_data[:,1],'.')\n",
    "plt.grid(True)\n",
    "plt.ylim([10**(-0.5),np.max(out_data[:,1])+1])\n",
    "plt.plot(r_all, n_values, 'b-')\n",
    "plt.show()"
   ]
  },
  {
   "cell_type": "markdown",
   "metadata": {},
   "source": [
    "Podemos ver que la cantidad de términos significativos es una función discreta que corresponde a la función piso de esta curva. A fin de cuentas lo que está pasando es que a medida que disminuye $r$ el $\\epsilon_{mach}$ relativo crece más rápido debido al comportamiento que describe la inecuación, restando significancia a los términos siguientes y por lo tanto disminuyendo el número de iteraciones."
   ]
  },
  {
   "cell_type": "markdown",
   "metadata": {},
   "source": [
    "---"
   ]
  },
  {
   "cell_type": "markdown",
   "metadata": {},
   "source": [
    "c) Explique la razón de por qué el loop indicado debe ejecutar el break. Utilice la función \"to_binary\" incluida en el jupyter notebook \"03_floating_point_arithmetic\" para entregar su justificación. Obtenga el menor valor de $X$ que ejecuta el break."
   ]
  },
  {
   "cell_type": "code",
   "execution_count": null,
   "metadata": {
    "collapsed": true
   },
   "outputs": [],
   "source": [
    "# Hint: Comenzando con X=1.0 se demorará mucho, piense primero, determine un buen X y luego ejecute el código.\n",
    "X=1.0\n",
    "a=X+0.0\n",
    "b=X+1.0\n",
    "while(True):\n",
    "    a+=1.0\n",
    "    b+=1.0\n",
    "    if a == b:\n",
    "        print('They are equal! Why?')\n",
    "        break"
   ]
  },
  {
   "cell_type": "markdown",
   "metadata": {},
   "source": [
    "---"
   ]
  },
  {
   "cell_type": "markdown",
   "metadata": {},
   "source": [
    "Dado cualquier número, se irá incrementando hasta que en algún momento la mitad del $\\epsilon_{mach}$ relativo será más grande que el incremento (en este caso 1). Esto que provocará que al sumar uno, el número representable más cercano sea el mismo y se ejecute el break.\n",
    "\n",
    "Lo podemos apreciar poniendo un número grande:"
   ]
  },
  {
   "cell_type": "code",
   "execution_count": 11,
   "metadata": {},
   "outputs": [
    {
     "name": "stdout",
     "output_type": "stream",
     "text": [
      "x =  0 10001000001 0101101011110001110101111000101101011000110001000000\n",
      "1 =  0 01111111111 0000000000000000000000000000000000000000000000000000\n",
      "Iteration!\n",
      "They are equal! Why?\n"
     ]
    }
   ],
   "source": [
    "X=1e20\n",
    "print('x = ', to_binary(X))\n",
    "print('1 = ', to_binary(1.0))\n",
    "a=X+0.0\n",
    "b=X+1.0\n",
    "while(True):\n",
    "    print('Iteration!')\n",
    "    a+=1.0\n",
    "    b+=1.0\n",
    "    if a == b:\n",
    "        print('They are equal! Why?')\n",
    "        break"
   ]
  },
  {
   "cell_type": "markdown",
   "metadata": {},
   "source": [
    "Al realizar la suma, el 1 pierde toda su significancia:"
   ]
  },
  {
   "cell_type": "code",
   "execution_count": 12,
   "metadata": {},
   "outputs": [
    {
     "name": "stdout",
     "output_type": "stream",
     "text": [
      "  0 10001000001 0101101011110001110101111000101101011000110001000000\n",
      "+ 0 10001000001 0000000000000000000000000000000000000000000000000000 00...01 (subnormal)\n",
      "  - ----------- ----------------------------------------------------\n",
      "  0 10001000001 0101101011110001110101111000101101011000110001000000\n"
     ]
    }
   ],
   "source": [
    "print(' ', to_binary(X))\n",
    "one = to_binary(0).split()\n",
    "one[1] = to_binary(X).split()[1]\n",
    "one.append('00...01')\n",
    "print('+', ' '.join(one), '(subnormal)')\n",
    "print('  - '+'-'*11+' '+'-'*52)\n",
    "print(' ', to_binary(X))"
   ]
  },
  {
   "cell_type": "markdown",
   "metadata": {},
   "source": [
    "Para obtener el menor valor de $X$ que ejecuta el break debemos encontrar 2 numeros consecutivos que cumplan que uno de ellos no lo ejecute y el otro si. Como se mencionó, un numero ejecuta el break si la mitad del $\\epsilon_{mach}$ relativo es más grande que el incremento.\n",
    "\n",
    "Tenemos entonces el siguiente sistema:\n",
    "\n",
    "$$ x + 1 > x + x \\cdot \\frac{\\epsilon_{mach}}{2} $$\n",
    "$$ y + 1 < y + y \\cdot \\frac{\\epsilon_{mach}}{2} $$\n",
    "$$ x + x \\cdot \\epsilon_{mach} = y $$\n",
    "\n",
    "Reemplazando y despejando podemos acotar $x$ en:\n",
    "\n",
    "$$ x < \\frac{2}{\\epsilon_{mach}} $$\n",
    "\n",
    "$$ x > \\frac{2}{\\epsilon_{mach} + \\epsilon_{mach}^2} $$"
   ]
  },
  {
   "cell_type": "code",
   "execution_count": 13,
   "metadata": {},
   "outputs": [
    {
     "name": "stdout",
     "output_type": "stream",
     "text": [
      "x < 9007199254740992.0 -> 0 10000110100 0000000000000000000000000000000000000000000000000000\n",
      "x > 9007199254740990.0 -> 0 10000110011 1111111111111111111111111111111111111111111111111110\n"
     ]
    }
   ],
   "source": [
    "upper = 2 / e_mach\n",
    "lower = 2 / (e_mach + e_mach ** 2)\n",
    "print('x <', upper, '->', to_binary(upper))\n",
    "print('x >', lower, '->', to_binary(lower))"
   ]
  },
  {
   "cell_type": "markdown",
   "metadata": {},
   "source": [
    "Entonces el menor número que rompe el ciclo es $x = 9007199254740991$"
   ]
  },
  {
   "cell_type": "code",
   "execution_count": 14,
   "metadata": {},
   "outputs": [
    {
     "name": "stdout",
     "output_type": "stream",
     "text": [
      "x = 0 10000110011 1111111111111111111111111111111111111111111111111110\n",
      "First iteration!\n",
      "First iteration!\n",
      "They are equal! Why?\n",
      "\n",
      "x = 0 10000110011 1111111111111111111111111111111111111111111111111111\n",
      "Second iteration!\n",
      "They are equal! But it has been explained why.\n"
     ]
    }
   ],
   "source": [
    "X=lower\n",
    "print('x =', to_binary(X))\n",
    "a=X+0.0\n",
    "b=X+1.0\n",
    "while(True):\n",
    "    print('First iteration!')\n",
    "    a+=1.0\n",
    "    b+=1.0\n",
    "    if a == b:\n",
    "        print('They are equal! Why?\\n')\n",
    "        break\n",
    "\n",
    "X=lower+1\n",
    "print('x =', to_binary(X))\n",
    "a=X+0.0\n",
    "b=X+1.0\n",
    "while(True):\n",
    "    print('Second iteration!')\n",
    "    a+=1.0\n",
    "    b+=1.0\n",
    "    if a == b:\n",
    "        print('They are equal! But it has been explained why.')\n",
    "        break"
   ]
  },
  {
   "cell_type": "markdown",
   "metadata": {},
   "source": [
    "---"
   ]
  },
  {
   "cell_type": "markdown",
   "metadata": {},
   "source": [
    "### Pérdida de Significancia:\n",
    "---"
   ]
  },
  {
   "cell_type": "markdown",
   "metadata": {},
   "source": [
    "#### 1. Dada la función:\n",
    "\n",
    "$$f(x) = \\frac{1 - x}{ 1 + x} - \\frac{1}{3x+1}$$"
   ]
  },
  {
   "cell_type": "markdown",
   "metadata": {},
   "source": [
    "a) Grafique la función usando $x \\in {[-10,10]}$ ¿Para que valores de x la función queda reducida a $0$ ?"
   ]
  },
  {
   "cell_type": "markdown",
   "metadata": {},
   "source": [
    "---"
   ]
  },
  {
   "cell_type": "code",
   "execution_count": 15,
   "metadata": {},
   "outputs": [
    {
     "data": {
      "image/png": "[encoded data removed]",
      "text/plain": [
       "<matplotlib.figure.Figure at 0x7f8acd3078d0>"
      ]
     },
     "metadata": {},
     "output_type": "display_data"
    }
   ],
   "source": [
    "f = lambda x: (( 1-x )/( 1+x )) - (( 1 )/( 3*x+1 ))\n",
    "set_x = np.linspace(-10, 10, 10000)\n",
    "set_y = f(set_x)\n",
    "\n",
    "plt.plot(set_x, set_y, 'r-')\n",
    "plt.grid()\n",
    "plt.ylim(-10,10)\n",
    "plt.show()"
   ]
  },
  {
   "cell_type": "markdown",
   "metadata": {},
   "source": [
    "Podemos ver mejor los ceros si nos acercamos al área de interés."
   ]
  },
  {
   "cell_type": "code",
   "execution_count": 16,
   "metadata": {},
   "outputs": [
    {
     "data": {
      "image/png": "[encoded data removed]",
      "text/plain": [
       "<matplotlib.figure.Figure at 0x7f8acd252e48>"
      ]
     },
     "metadata": {},
     "output_type": "display_data"
    }
   ],
   "source": [
    "set_x = np.linspace(-1.5, 1, 10000)\n",
    "set_y = f(set_x)\n",
    "\n",
    "plt.plot(set_x, set_y, 'r-')\n",
    "plt.grid()\n",
    "plt.ylim(-1,1)\n",
    "plt.show()"
   ]
  },
  {
   "cell_type": "markdown",
   "metadata": {},
   "source": [
    "Analíticamente la función tiene ceros en $x=0$ y $x=\\frac{1}{3}$ y discontinuidades en $x=-\\frac{1}{3}$ y $x=-1$."
   ]
  },
  {
   "cell_type": "markdown",
   "metadata": {},
   "source": [
    "---"
   ]
  },
  {
   "cell_type": "markdown",
   "metadata": {},
   "source": [
    "b) Usando $x = [10^{-1} , 10^{-2} , ... , 10^{-20}] $ , calcule los valores de $f(x)$ ¿Que ocurre con los valores observados? ¿En que momento ocurre pérdida de significancia? Describa el origen de cancelación de digítos. "
   ]
  },
  {
   "cell_type": "markdown",
   "metadata": {},
   "source": [
    "---"
   ]
  },
  {
   "cell_type": "code",
   "execution_count": 17,
   "metadata": {},
   "outputs": [
    {
     "name": "stdout",
     "output_type": "stream",
     "text": [
      "[  9.32423339e-03   9.93024921e-04   9.99300250e-05   9.99930002e-06\n",
      "   9.99993000e-07   9.99999299e-08   9.99999938e-09   9.99999972e-10\n",
      "   1.00000008e-10   1.00000008e-11   9.99977878e-13   1.00031095e-13\n",
      "   9.99200722e-15   9.99200722e-16   1.11022302e-16   0.00000000e+00\n",
      "   0.00000000e+00   0.00000000e+00   0.00000000e+00   0.00000000e+00]\n"
     ]
    }
   ],
   "source": [
    "logset_x = np.logspace(-2, -21, 20)\n",
    "print(f(logset_x))"
   ]
  },
  {
   "cell_type": "markdown",
   "metadata": {},
   "source": [
    "Se observa que en los últimos términos se pierde la significancia. Para ver por que ocurre revisamos los términos que influyen para $x$ pequeño."
   ]
  },
  {
   "cell_type": "code",
   "execution_count": 18,
   "metadata": {},
   "outputs": [
    {
     "name": "stdout",
     "output_type": "stream",
     "text": [
      "     x : 0 01111001001 1100110100101011001010010111110110001000100110111100\n",
      " 1 - x : 0 01111111110 1111111111111111111111111111111111111111111111111111\n",
      " 1 + x : 0 01111111111 0000000000000000000000000000000000000000000000000000\n",
      "     1 : 0 01111111111 0000000000000000000000000000000000000000000000000000\n",
      "3x + 1 : 0 01111111111 0000000000000000000000000000000000000000000000000001\n",
      "\n",
      " 1-x / 1+x : 0 01111111110 1111111111111111111111111111111111111111111111111111\n",
      "1 / 3x + 1 : 0 01111111110 1111111111111111111111111111111111111111111111111110\n",
      "\n",
      "--------------------------------------------------------------------------------\n",
      "\n",
      "     x : 0 01111000110 0111000011101111010101000110010001101101010010010111\n",
      " 1 - x : 0 01111111111 0000000000000000000000000000000000000000000000000000\n",
      " 1 + x : 0 01111111111 0000000000000000000000000000000000000000000000000000\n",
      "     1 : 0 01111111111 0000000000000000000000000000000000000000000000000000\n",
      "3x + 1 : 0 01111111111 0000000000000000000000000000000000000000000000000000\n",
      "\n",
      " 1-x / 1+x : 0 01111111111 0000000000000000000000000000000000000000000000000000\n",
      "1 / 3x + 1 : 0 01111111111 0000000000000000000000000000000000000000000000000000\n"
     ]
    }
   ],
   "source": [
    "x = 1e-16\n",
    "print('     x :', to_binary(x))\n",
    "print(' 1 - x :', to_binary(1-x))\n",
    "print(' 1 + x :', to_binary(1+x))\n",
    "print('     1 :', to_binary(1))\n",
    "print('3x + 1 :', to_binary(3*x+1))\n",
    "print()\n",
    "print(' 1-x / 1+x :', to_binary((1-x)/(1+x)))\n",
    "print('1 / 3x + 1 :', to_binary((1)/(3*x+1)))\n",
    "print()\n",
    "\n",
    "print('-'*80, end='\\n\\n')\n",
    "\n",
    "x = 1e-17\n",
    "print('     x :', to_binary(x))\n",
    "print(' 1 - x :', to_binary(1-x))\n",
    "print(' 1 + x :', to_binary(1+x))\n",
    "print('     1 :', to_binary(1))\n",
    "print('3x + 1 :', to_binary(3*x+1))\n",
    "print()\n",
    "print(' 1-x / 1+x :', to_binary((1-x)/(1+x)))\n",
    "print('1 / 3x + 1 :', to_binary((1)/(3*x+1)))"
   ]
  },
  {
   "cell_type": "markdown",
   "metadata": {},
   "source": [
    "Como se puede ver, para $x$ suficientemente pequeño todos los términos se aproximan a 1, el origen de la cancelación es que el 1 es demasiado significante y al sumarle o restarle números del orden de magnitud de $x$ se mantiene inalterado.\n",
    "\n",
    "La pérdida total de significancia ocurre cuando se cumple uno de los siguientes casos:\n",
    "\n",
    "$$ \\frac{1}{3x+1} > 1 - \\frac{\\epsilon_{mach}}{2} \\Rightarrow x < \\frac{\\epsilon_{mach}}{6-3\\epsilon_{mach}} $$\n",
    "\n",
    "$$ \\frac{1-x}{1+x} > 1 - \\frac{\\epsilon_{mach}}{2} \\Rightarrow x < \\frac{\\epsilon_{mach}}{4-\\epsilon_{mach}} $$\n",
    "\n",
    "el primer caso entrega un $x$ mayor, por lo que ese es el que sirve, solo hay que agregar un $\\epsilon_{mach}$ relativo."
   ]
  },
  {
   "cell_type": "code",
   "execution_count": 19,
   "metadata": {},
   "outputs": [
    {
     "name": "stdout",
     "output_type": "stream",
     "text": [
      "     x : 0 01111001000 0101010101010101010101010101010101010101010101011000\n",
      " 1 - x : 0 01111111111 0000000000000000000000000000000000000000000000000000\n",
      " 1 + x : 0 01111111111 0000000000000000000000000000000000000000000000000000\n",
      "     1 : 0 01111111111 0000000000000000000000000000000000000000000000000000\n",
      "3x + 1 : 0 01111111111 0000000000000000000000000000000000000000000000000001\n",
      "\n",
      " 1-x / 1+x : 0 01111111111 0000000000000000000000000000000000000000000000000000\n",
      "1 / 3x + 1 : 0 01111111110 1111111111111111111111111111111111111111111111111110\n",
      "\n",
      "momento de pérdida de significancia: x = 3.70074341541719e-17\n",
      "\n",
      "f(x) sin agregarle e_mach relativo: 0.0\n"
     ]
    }
   ],
   "source": [
    "x = (e_mach + e_mach ** 2) / (6 - 3 * e_mach)\n",
    "print('     x :', to_binary(x))\n",
    "print(' 1 - x :', to_binary(1-x))\n",
    "print(' 1 + x :', to_binary(1+x))\n",
    "print('     1 :', to_binary(1))\n",
    "print('3x + 1 :', to_binary(3*x+1))\n",
    "print()\n",
    "print(' 1-x / 1+x :', to_binary((1-x)/(1+x)))\n",
    "print('1 / 3x + 1 :', to_binary((1)/(3*x+1)))\n",
    "print('\\nmomento de pérdida de significancia: x =', x)\n",
    "\n",
    "x = (e_mach) / (6 - 3 * e_mach)\n",
    "print('\\nf(x) sin agregarle e_mach relativo:', (1-x)/(1+x) - (1)/(3*x+1))"
   ]
  },
  {
   "cell_type": "markdown",
   "metadata": {},
   "source": [
    "---"
   ]
  },
  {
   "cell_type": "markdown",
   "metadata": {},
   "source": [
    "c) Reescriba la función original para evitar el proceso de pérdida de significancia (hint: busqué un denominador común para ambas fracciones.)"
   ]
  },
  {
   "cell_type": "markdown",
   "metadata": {},
   "source": [
    "---"
   ]
  },
  {
   "cell_type": "markdown",
   "metadata": {},
   "source": [
    "Al buscar un común denominador la función se transforma en la siguiente:\n",
    "\n",
    "$$ f(x) = \\frac{x-3x^2}{3x^2+4x+1} $$\n",
    "\n",
    "Esto evita que el numerador sea absorbido por uno y disminuye considerablemente la pérdida de significancia."
   ]
  },
  {
   "cell_type": "markdown",
   "metadata": {},
   "source": [
    "---"
   ]
  },
  {
   "cell_type": "markdown",
   "metadata": {},
   "source": [
    "d) Analice la diferencia entre los resultados de la función $f(x)$ con la función reescrita en la pregunta anterior. Realice un gráfico que mida la diferencia entre los resultados del punto a) y c). Realice un análisis cualitativo y cuantitativo de los resultados."
   ]
  },
  {
   "cell_type": "markdown",
   "metadata": {},
   "source": [
    "---"
   ]
  },
  {
   "cell_type": "markdown",
   "metadata": {},
   "source": [
    "Primero evaluamos la función en el arreglo original de puntos"
   ]
  },
  {
   "cell_type": "code",
   "execution_count": 20,
   "metadata": {},
   "outputs": [
    {
     "name": "stdout",
     "output_type": "stream",
     "text": [
      "[  9.32423339e-03   9.93024921e-04   9.99300250e-05   9.99930002e-06\n",
      "   9.99993000e-07   9.99999300e-08   9.99999930e-09   9.99999993e-10\n",
      "   9.99999999e-11   1.00000000e-11   1.00000000e-12   1.00000000e-13\n",
      "   1.00000000e-14   1.00000000e-15   1.00000000e-16   1.00000000e-17\n",
      "   1.00000000e-18   1.00000000e-19   1.00000000e-20   1.00000000e-21]\n"
     ]
    }
   ],
   "source": [
    "new_f = lambda x: ( x - 3*x**2 )/( 3*x**2 + 4*x + 1 )\n",
    "print(new_f(logset_x))"
   ]
  },
  {
   "cell_type": "markdown",
   "metadata": {},
   "source": [
    "No existe pérdida total de significancia en este intervalo, la nueva función resulta mejor para valores pequeños. Podemos analizar mejor la diferencia en siguiente gráfico:"
   ]
  },
  {
   "cell_type": "code",
   "execution_count": 21,
   "metadata": {},
   "outputs": [
    {
     "data": {
      "image/png": "[encoded data removed]",
      "text/plain": [
       "<matplotlib.figure.Figure at 0x7f8acd3f4a90>"
      ]
     },
     "metadata": {},
     "output_type": "display_data"
    }
   ],
   "source": [
    "linset_x = np.linspace(0, 1e-15, 1000)\n",
    "\n",
    "plt.figure()\n",
    "plt.plot(linset_x, f(linset_x), 'g-')\n",
    "plt.plot(linset_x, new_f(linset_x), 'b-')\n",
    "plt.grid()\n",
    "plt.show()"
   ]
  },
  {
   "cell_type": "markdown",
   "metadata": {},
   "source": [
    "Se aprecia que la función antigua (en verde) tiene valores discretos con un error considerable cuando se acerca al $0$, mientras que la nueva función (en azul) parece más continua. Por último podemos ver la diferencia existente entre las funciones."
   ]
  },
  {
   "cell_type": "code",
   "execution_count": 32,
   "metadata": {},
   "outputs": [
    {
     "data": {
      "image/png": "[encoded data removed]",
      "text/plain": [
       "<matplotlib.figure.Figure at 0x7f8acd0aa780>"
      ]
     },
     "metadata": {},
     "output_type": "display_data"
    }
   ],
   "source": [
    "logset_x = np.logspace(-2, -21, 2000)\n",
    "plt.loglog(logset_x, abs(f(logset_x) - new_f(logset_x)), '.')\n",
    "plt.show()"
   ]
  },
  {
   "cell_type": "markdown",
   "metadata": {},
   "source": [
    "---"
   ]
  },
  {
   "cell_type": "markdown",
   "metadata": {},
   "source": [
    "#### 2. Para la siguiente función:\n",
    "\n",
    "$$g(x) = \\frac{1 - \\sec(x)}{\\tan(x)^2} $$\n",
    "\n",
    "a) Usando $x = [0,\\frac{\\pi}{4} ,\\frac{\\pi}{2}, \\frac{3\\pi}{4} , ... , 2\\pi ]$ (intervalo de $0$ a $2\\pi$ ) calcule los valores de esta función. Realice el mismo procedimiento del punto anterior."
   ]
  },
  {
   "cell_type": "markdown",
   "metadata": {},
   "source": [
    "---"
   ]
  },
  {
   "cell_type": "code",
   "execution_count": 22,
   "metadata": {},
   "outputs": [
    {
     "name": "stderr",
     "output_type": "stream",
     "text": [
      "/home/vlizana/cc/CC/lib/python3.5/site-packages/ipykernel/__main__.py:1: RuntimeWarning: invalid value encountered in true_divide\n",
      "  if __name__ == '__main__':\n"
     ]
    },
    {
     "data": {
      "image/png": "[encoded data removed]",
      "text/plain": [
       "<matplotlib.figure.Figure at 0x7f8acd468518>"
      ]
     },
     "metadata": {},
     "output_type": "display_data"
    }
   ],
   "source": [
    "g = lambda x: ( 1 - (1/np.cos(x)) )/( np.tan(x) ** 2 )\n",
    "set_x = np.linspace(0, 2 * np.pi, 9)\n",
    "set_y = g(set_x)\n",
    "\n",
    "plt.plot(set_x, set_y, 'r-')\n",
    "plt.grid()\n",
    "plt.show()"
   ]
  },
  {
   "cell_type": "markdown",
   "metadata": {},
   "source": [
    "De partida el warning nos muestra que la función original se indefine en $x=0$, además casi todos los valores están muy cerca de $0$. Si nos acercamos mas podemos apreciar un poco mejor la diferencia."
   ]
  },
  {
   "cell_type": "code",
   "execution_count": 23,
   "metadata": {},
   "outputs": [
    {
     "data": {
      "image/png": "[encoded data removed]",
      "text/plain": [
       "<matplotlib.figure.Figure at 0x7f8acd372518>"
      ]
     },
     "metadata": {},
     "output_type": "display_data"
    }
   ],
   "source": [
    "plt.plot(set_x, set_y, 'r-')\n",
    "plt.ylim(-0.5, 0.5)\n",
    "plt.grid()\n",
    "plt.show()"
   ]
  },
  {
   "cell_type": "markdown",
   "metadata": {},
   "source": [
    "Aparte si acercamos y graficamos con más puntos vemos que se puede ver que se pierde presición en los bordes, debido a que toma el valor $0$ en $x = 2k\\pi$ (en donde debería indefinirse). También se indefine en $x=(2k-1)\\pi$."
   ]
  },
  {
   "cell_type": "code",
   "execution_count": 24,
   "metadata": {},
   "outputs": [
    {
     "data": {
      "image/png": "[encoded data removed]",
      "text/plain": [
       "<matplotlib.figure.Figure at 0x7f8acf705c50>"
      ]
     },
     "metadata": {},
     "output_type": "display_data"
    }
   ],
   "source": [
    "set_x = np.linspace(2 * np.pi - 5e-8, 2 * np.pi + 5e-8, 10001)\n",
    "set_y = g(set_x)\n",
    "\n",
    "plt.plot(set_x, set_y, 'r-')\n",
    "plt.grid()\n",
    "plt.show()"
   ]
  },
  {
   "cell_type": "markdown",
   "metadata": {},
   "source": [
    "Los ceros reales de la función están ubicados en donde $\\cos (x) = 0$, es decir, $x = \\big( k + \\frac{1}{2} \\big) \\pi$."
   ]
  },
  {
   "cell_type": "markdown",
   "metadata": {},
   "source": [
    "---"
   ]
  },
  {
   "cell_type": "code",
   "execution_count": 25,
   "metadata": {},
   "outputs": [
    {
     "name": "stdout",
     "output_type": "stream",
     "text": [
      "[ 0.          0.78539816  1.57079633  2.35619449  3.14159265  3.92699082\n",
      "  4.71238898  5.49778714  6.28318531]\n",
      "[             nan  -4.14213562e-01  -6.12323400e-17   2.41421356e+00\n",
      "   1.33354689e+32   2.41421356e+00   1.83697020e-16  -4.14213562e-01\n",
      "   0.00000000e+00]\n"
     ]
    },
    {
     "name": "stderr",
     "output_type": "stream",
     "text": [
      "/home/vlizana/cc/CC/lib/python3.5/site-packages/ipykernel/__main__.py:1: RuntimeWarning: invalid value encountered in true_divide\n",
      "  if __name__ == '__main__':\n"
     ]
    }
   ],
   "source": [
    "set_x = np.linspace(0, 2 * np.pi, 9)\n",
    "set_y = g(set_x)\n",
    "\n",
    "print(set_x, set_y, sep='\\n')"
   ]
  },
  {
   "cell_type": "markdown",
   "metadata": {},
   "source": [
    "La pérdida de significancia ocurre cuando estamos muy cerca de $x=2k\\pi$, en donde se indefine la función. El origen es la resta del numerador, ya que un número lo suficientemente pequeño es despreciable frente al 1."
   ]
  },
  {
   "cell_type": "code",
   "execution_count": 26,
   "metadata": {},
   "outputs": [
    {
     "name": "stdout",
     "output_type": "stream",
     "text": [
      "          x : 0 10000000001 1001001000011111101101010100010000100111010101001010\n",
      "     sec(x) : 0 01111111111 0000000000000000000000000000000000000000000000000000\n",
      " 1 - sec(x) : 0 00000000000 0000000000000000000000000000000000000000000000000000\n",
      "tan(x) ** 2 : 0 01110111100 0111100111001010100011100010101010000110100011010100\n",
      "\n",
      "       g(x) : 0 00000000000 0000000000000000000000000000000000000000000000000000\n"
     ]
    }
   ],
   "source": [
    "x = 2 * np.pi - 1e-10\n",
    "print('          x :', to_binary(x))\n",
    "print('     sec(x) :', to_binary(1/np.cos(x)))\n",
    "print(' 1 - sec(x) :', to_binary(1-(1/np.cos(x))))\n",
    "print('tan(x) ** 2 :', to_binary(np.tan(x)**2))\n",
    "print()\n",
    "print('       g(x) :', to_binary(g(x)))"
   ]
  },
  {
   "cell_type": "markdown",
   "metadata": {},
   "source": [
    "La pérdida de significancia ocurre cuando la secante se acerca mucho a 1:\n",
    "\n",
    "$$ \\sec(x) < 1 + \\frac{\\epsilon_{mach}}{2} \\quad \\Rightarrow \\quad x > \\cos^{-1}\\bigg(\\frac{2}{2+\\epsilon_{mach}}\\bigg) $$"
   ]
  },
  {
   "cell_type": "code",
   "execution_count": 27,
   "metadata": {},
   "outputs": [
    {
     "name": "stdout",
     "output_type": "stream",
     "text": [
      "          x : 0 10000000001 1001001000011111101101010100111110010011001000001100\n",
      "     sec(x) : 0 01111111111 0000000000000000000000000000000000000000000000000001\n",
      " 1 - sec(x) : 1 01111001011 0000000000000000000000000000000000000000000000000000\n",
      "tan(x) ** 2 : 0 01111001010 0000000000000000000000010111100101100100000110010110\n",
      "\n",
      "       g(x) : 1 01111111111 1111111111111111111111010000110100110111110100011010\n",
      "\n",
      "          x : 0 10000000001 1001001000011111101101010100111110010011001000001010\n",
      "     sec(x) : 0 01111111111 0000000000000000000000000000000000000000000000000000\n",
      " 1 - sec(x) : 0 00000000000 0000000000000000000000000000000000000000000000000000\n",
      "tan(x) ** 2 : 0 01111001001 1111111111111111111101111010001001111001000001110011\n",
      "\n",
      "       g(x) : 0 00000000000 0000000000000000000000000000000000000000000000000000\n",
      "\n",
      "momento de pérdida de significancia: x = 2kπ ± 1.053671259064442e-08\n"
     ]
    }
   ],
   "source": [
    "x_teo = 1.053671259064442e-08\n",
    "x = 2 * np.pi + x_teo\n",
    "print('          x :', to_binary(x))\n",
    "print('     sec(x) :', to_binary(1/np.cos(x)))\n",
    "print(' 1 - sec(x) :', to_binary(1-(1/np.cos(x))))\n",
    "print('tan(x) ** 2 :', to_binary(np.tan(x)**2))\n",
    "print()\n",
    "print('       g(x) :', to_binary(g(x)), end='\\n\\n')\n",
    "\n",
    "x = x * (1 - e_mach)\n",
    "print('          x :', to_binary(x))\n",
    "print('     sec(x) :', to_binary(1/np.cos(x)))\n",
    "print(' 1 - sec(x) :', to_binary(1-(1/np.cos(x))))\n",
    "print('tan(x) ** 2 :', to_binary(np.tan(x)**2))\n",
    "print()\n",
    "print('       g(x) :', to_binary(g(x)))\n",
    "\n",
    "print()\n",
    "print('momento de pérdida de significancia: x = 2kπ ±', x_teo)"
   ]
  },
  {
   "cell_type": "markdown",
   "metadata": {},
   "source": [
    "---"
   ]
  },
  {
   "cell_type": "markdown",
   "metadata": {},
   "source": [
    "Se puede reescribir la función de la siguiente manera:\n",
    "\n",
    "$$ g(x) = \\frac{1 - \\sec(x)}{\\sec^2(x) - 1} $$\n",
    "\n",
    "$$ g(x) = \\frac{-1}{1 + \\sec(x)} $$\n",
    "\n",
    "$$ g(x) = \\frac{-\\cos(x)}{1 + \\cos(x)} $$"
   ]
  },
  {
   "cell_type": "markdown",
   "metadata": {},
   "source": [
    "---"
   ]
  },
  {
   "cell_type": "code",
   "execution_count": 28,
   "metadata": {},
   "outputs": [
    {
     "data": {
      "image/png": "[encoded data removed]",
      "text/plain": [
       "<matplotlib.figure.Figure at 0x7f8acd3cdfd0>"
      ]
     },
     "metadata": {},
     "output_type": "display_data"
    }
   ],
   "source": [
    "set_x = np.linspace(2 * np.pi - 5e-8, 2 * np.pi + 5e-8, 10001)\n",
    "set_y = g(set_x)\n",
    "\n",
    "new_g = lambda x: (-np.cos(x)) / (1 + np.cos(x))\n",
    "new_set_y = new_g(set_x)\n",
    "\n",
    "plt.plot(set_x, set_y, 'r-')\n",
    "plt.plot(set_x, new_set_y, 'g-')\n",
    "plt.grid()\n",
    "plt.show()"
   ]
  },
  {
   "cell_type": "markdown",
   "metadata": {},
   "source": [
    "Podemos ver como en este intervalo crítico se anula la pérdida de significancia y además, nuestra nueva función posee menos discontinuidades. Por último la diferencia entre las funciones."
   ]
  },
  {
   "cell_type": "code",
   "execution_count": 47,
   "metadata": {},
   "outputs": [
    {
     "name": "stderr",
     "output_type": "stream",
     "text": [
      "/home/vlizana/cc/CC/lib/python3.5/site-packages/ipykernel/__main__.py:2: RuntimeWarning: divide by zero encountered in log\n",
      "  from ipykernel import kernelapp as app\n"
     ]
    },
    {
     "data": {
      "image/png": "[encoded data removed]",
      "text/plain": [
       "<matplotlib.figure.Figure at 0x7f8acd23f0f0>"
      ]
     },
     "metadata": {},
     "output_type": "display_data"
    }
   ],
   "source": [
    "final_linset_x = np.linspace(0.0001, 2 * np.pi - 0.0001, 2000)\n",
    "plt.plot(final_linset_x, np.log(abs(g(final_linset_x) - new_g(final_linset_x))), '.')\n",
    "plt.show()"
   ]
  },
  {
   "cell_type": "markdown",
   "metadata": {},
   "source": [
    "## Conclusiones\n",
    "---"
   ]
  },
  {
   "cell_type": "markdown",
   "metadata": {},
   "source": [
    "Podemos ver que es importante tener en cuenta que la representación de la función importa, ya que estamos forzando el orden de las operaciones y se puede perder significancia. Conocer la representación de punto flotante nos permite prevenir estos errores o al menos saber cuando y donde pueden ocurrir."
   ]
  },
  {
   "cell_type": "markdown",
   "metadata": {},
   "source": [
    "## Referencias\n",
    "---"
   ]
  },
  {
   "cell_type": "markdown",
   "metadata": {},
   "source": [
    "[Wolfram Alpha](www.wolframalpha.com)"
   ]
  }
 ],
 "metadata": {
  "kernelspec": {
   "display_name": "Python 3",
   "language": "python",
   "name": "python3"
  },
  "language_info": {
   "codemirror_mode": {
    "name": "ipython",
    "version": 3
   },
   "file_extension": ".py",
   "mimetype": "text/x-python",
   "name": "python",
   "nbconvert_exporter": "python",
   "pygments_lexer": "ipython3",
   "version": "3.6.2"
  }
 },
 "nbformat": 4,
 "nbformat_minor": 2
}
